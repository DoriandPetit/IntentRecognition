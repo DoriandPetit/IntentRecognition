{
 "cells": [
  {
   "cell_type": "markdown",
   "metadata": {},
   "source": [
    "# TP1 Apprentissage Signaux Sociaux - Doriand Petit\n",
    "\n",
    "à envoyer à : LEBRUN@ISIR.UPMC.FR\n",
    "\n",
    "De Doriand Petit - doriand.petit@etu.sorbonne-universite.fr\n",
    "\n",
    "#### Imports :"
   ]
  },
  {
   "cell_type": "code",
   "execution_count": 1,
   "metadata": {},
   "outputs": [
    {
     "name": "stdout",
     "output_type": "stream",
     "text": [
      "2042\n"
     ]
    }
   ],
   "source": [
    "import os\n",
    "import numpy as np\n",
    "from sklearn.model_selection import train_test_split\n",
    "import matplotlib.pyplot as plt\n",
    "print(len(os.listdir(\"./BabyEars_WAV\")))\n",
    "import warnings \n",
    "warnings.filterwarnings('ignore')\n",
    "\n",
    "from sklearn.model_selection import GridSearchCV\n",
    "import sklearn.metrics"
   ]
  },
  {
   "cell_type": "markdown",
   "metadata": {},
   "source": [
    "#### Data Processing :"
   ]
  },
  {
   "cell_type": "code",
   "execution_count": 2,
   "metadata": {
    "scrolled": true
   },
   "outputs": [
    {
     "name": "stdout",
     "output_type": "stream",
     "text": [
      "360\n"
     ]
    }
   ],
   "source": [
    "def create_data(folder,lab,types = \"Baby\"):\n",
    "    extract = []\n",
    "    if types ==\"Baby\" :\n",
    "        files = os.listdir(folder)\n",
    "        ### Remove Mat Files\n",
    "        files.pop(-1)\n",
    "        files.pop(-1)\n",
    "        files.pop(-1)\n",
    "        files.pop(-1)\n",
    "        files.pop(-1)\n",
    "        files.pop(-1)\n",
    "\n",
    "        #print((files))\n",
    "        while files != [] :\n",
    "            extract.append(files[0:4])\n",
    "            files.pop(0)\n",
    "            files.pop(0)\n",
    "            files.pop(0)\n",
    "            files.pop(0)\n",
    "            \n",
    "    if types ==\"Kismet\" :\n",
    "        files = os.listdir(folder)\n",
    "        for f in files :\n",
    "            if f[-4:] == \".mat\" :\n",
    "                files.remove(f)\n",
    "        while files != [] :\n",
    "            extract.append(files[0:2])\n",
    "            files.pop(0)\n",
    "            files.pop(0)\n",
    "            files.pop(0)\n",
    "            \n",
    "    ### Remove Files of Labels not Wanted\n",
    "    k=0\n",
    "    extract = np.array(extract)\n",
    "    KList=[]\n",
    "    #print((extract.shape))\n",
    "    for f in extract :\n",
    "        k+=1\n",
    "        #print(\"BEFORE : \",f[0][6:8])\n",
    "        if not(f[0][6:8] in lab) :\n",
    "            #print(\"REMOVE : \",f[0][6:8])\n",
    "            KList.append(k-1)\n",
    "    extract = np.delete(extract,KList,axis=0)\n",
    "    return extract\n",
    "\n",
    "\n",
    "def create_labels(extract,types=\"Baby\") :\n",
    "    labels = []\n",
    "    if types == \"Baby\" :\n",
    "\n",
    "        for data in extract :\n",
    "            if data[0][6:8] in [\"ap\",\"at\",\"pr\"] :\n",
    "                labels.append(data[0][6:8])\n",
    "            \n",
    "    if types == \"Kismet\" :\n",
    "\n",
    "        for data in extract :\n",
    "            if data[0][6:8] in [\"ap\",\"at\",\"pw\"] :\n",
    "                labels.append(data[0][6:8])\n",
    "    return labels\n",
    "    \n",
    "print(len(create_data(\"./BabyEars_WAV\",[\"ap\",\"pr\"],types = \"Baby\")))\n"
   ]
  },
  {
   "cell_type": "markdown",
   "metadata": {},
   "source": [
    "## Exercice 1 :"
   ]
  },
  {
   "cell_type": "markdown",
   "metadata": {},
   "source": [
    "##### 1. and 2. Extractions des features prosodiques et de leurs fonctionnels"
   ]
  },
  {
   "cell_type": "code",
   "execution_count": 3,
   "metadata": {},
   "outputs": [],
   "source": [
    "def prosodic(files,path,voiced = 0) :\n",
    "    '''\n",
    "    Si voiced = 0, on prend tout l'enregistrement ;\n",
    "    Si voiced = 1, on prend les parties voisées ;\n",
    "    Si voiced = 2, on prend les parties non voisées.\n",
    "    \n",
    "    '''\n",
    "        \n",
    "    f0=[]\n",
    "    en = []\n",
    "    if voiced == 0 :\n",
    "        for f in files :\n",
    "            if f[-2:] == \"f0\" :\n",
    "                freq = open(path+f, \"r\")\n",
    "                for line in freq :\n",
    "                    f0.append(int(line[5:]))\n",
    "                freq.close()\n",
    "                \n",
    "            if f[-2:] == \"en\" :\n",
    "                ener = open(path+f, \"r\")\n",
    "                for line in ener :\n",
    "                    en.append(int(line[5:]))\n",
    "                ener.close()\n",
    "    if voiced == 1 or voiced == 2:\n",
    "        Klist=[]\n",
    "        for f in files :\n",
    "            if f[-2:] == \"f0\" :\n",
    "                freq = open(path+f, \"r\")\n",
    "                k = 0\n",
    "                for line in freq :\n",
    "                    if (int(line[5:]) != 0 and voiced ==1) or (int(line[5:]) == 0 and voiced ==2) :\n",
    "                        f0.append(int(line[5:])) \n",
    "                        Klist.append(k)\n",
    "                    k+=1\n",
    "                freq.close()\n",
    "            #print(\"KLIST\",Klist)\n",
    "        for f in files :\n",
    "            if f[-2:] == \"en\" :\n",
    "                ener = open(path+f, \"r\")\n",
    "                k=0\n",
    "                for line in ener :\n",
    "                    #print(k in Klist,k,Klist)\n",
    "                    if (k in Klist):\n",
    "                        #print(\"OK\")\n",
    "                        en.append(int(line[5:]))\n",
    "                    k+=1\n",
    "                ener.close()\n",
    "        #print(Klist)\n",
    "    #print(len(f0),len(en))\n",
    "    return(f0,en)\n",
    "\n",
    "def statistics(l):\n",
    "    arr = np.array(l)\n",
    "    \n",
    "    stats=[]\n",
    "    stats.append(arr.mean())              ## Moyenne\n",
    "    stats.append(np.median(arr))          ## Médiane\n",
    "    stats.append(np.percentile(arr,25))   ## 25%\n",
    "    stats.append(np.percentile(arr,75))   ## 75%\n",
    "    stats.append(np.max(arr))             ## Valeur Max\n",
    "    stats.append(np.std(arr))             ## Standard Deviation\n",
    "    stats.append(len(arr))                ## Longueur du signal\n",
    "    summ=0                                ## Mean Absolute of local derivate\n",
    "    for k in range(1,len(arr)) :\n",
    "        summ += np.abs(arr[k] - arr[k-1]) / (0.02*(len(arr)-1))\n",
    "    stats.append(summ)\n",
    "    return(stats)\n",
    "                "
   ]
  },
  {
   "cell_type": "markdown",
   "metadata": {},
   "source": [
    "### 4) 5) 6) Fonction Générale qui utilisent les anciennes fonctions pour créer les vecteurs X et y :"
   ]
  },
  {
   "cell_type": "code",
   "execution_count": 4,
   "metadata": {},
   "outputs": [],
   "source": [
    "def create(folder,lab,types=\"Baby\",v=0) :\n",
    "    if types == \"Baby\" :\n",
    "        path = \"./BabyEars_WAV/\"\n",
    "    else :\n",
    "        path = \"./Kismet_data/\"\n",
    "    \n",
    "    if types == \"Baby\" :\n",
    "        extract = create_data(folder,lab,types)\n",
    "        \n",
    "        labels = create_labels(extract,types)\n",
    "    else :\n",
    "        extract = create_data(folder,lab,types)\n",
    "        labels = create_labels(extract,types)\n",
    "    \n",
    "    functionnals = []\n",
    "    \n",
    "    for files in extract :\n",
    "        f0,en = prosodic(files,path,voiced=v)\n",
    "        stats_f0 = statistics(f0)\n",
    "        stats_en = statistics(en)\n",
    "        functionnals.append(stats_f0+stats_en)\n",
    "    return (functionnals,labels)\n",
    "        "
   ]
  },
  {
   "cell_type": "code",
   "execution_count": 5,
   "metadata": {},
   "outputs": [
    {
     "name": "stdout",
     "output_type": "stream",
     "text": [
      "(373, 16) (373,)\n",
      "SVM Classifier Score Kismet:  0.9666666666666667\n",
      "[[76  2]\n",
      " [ 3 69]]\n",
      "SVM Classifier Score Baby :  0.6388888888888888\n",
      "[[61 29]\n",
      " [23 31]]\n"
     ]
    }
   ],
   "source": [
    "from sklearn.pipeline import make_pipeline\n",
    "from sklearn.preprocessing import StandardScaler\n",
    "from sklearn.svm import SVC\n",
    "from sklearn.metrics import confusion_matrix\n",
    "\n",
    "X,y = create(\"./Kismet_data\",[\"ap\",\"pw\"],types = \"Kismet\",v=0)  \n",
    "print(np.array(X).shape,np.array(y).shape)\n",
    "X_train, X_test, y_train, y_test = train_test_split(X, y, test_size=0.4)\n",
    "\n",
    "clf = make_pipeline(StandardScaler(), SVC(gamma='auto'))\n",
    "clf.fit(X_train, y_train)\n",
    "\n",
    "print(\"SVM Classifier Score Kismet: \",clf.score(X_test,y_test))\n",
    "print(confusion_matrix(y_test,clf.predict(X_test)))\n",
    "\n",
    "\n",
    "X,y = create(\"./BabyEars_WAV\",[\"ap\",\"pr\"],types = \"Baby\",v=0)  \n",
    "X_train, X_test, y_train, y_test = train_test_split(X, y, test_size=0.4)\n",
    "clf.fit(X_train, y_train)\n",
    "print(\"SVM Classifier Score Baby : \",clf.score(X_test,y_test))\n",
    "print(confusion_matrix(y_test,clf.predict(X_test)))"
   ]
  },
  {
   "cell_type": "markdown",
   "metadata": {},
   "source": [
    "### Commentaires et Remarques sur ces résultats :\n",
    "\n",
    "En prenant en compte le fait que aucune optimisation (cross-validation par exemple) des hyperparamètres n'a été réalisée, nous obtenons de très bons résultats sur Kismet, mais des résultats plus mitigés sur Baby. Une explication pourrait être que les participants devant le robot Kismet, ont plus forcé leurs intonations que face à un bébé car il n'est aujourd'hui pas très naturel de parler à un robot et il subsiste une appréhension quant à sa faculté de compréhension. \n",
    "\n",
    "Nous pouvons remarquer que le nombre d'extraits n'étant pas très grand, le rapport train set - test set est assez important. En effet, avoir plus de données pour s'entraîner permet d'obtenir une meilleure précision, et donc réduire le paramètre test_size peut être très bénéfique.\n",
    "\n",
    "\n",
    "J'utilise ci-dessous un random forest classifier afin de regarder l'importance de chaque feature grâce à l'attribut feature_importances_ de ce classifier. Cela nous permet de voir l'importance de f0 et de l'énergie ainsi que des différentes statistiques :\n"
   ]
  },
  {
   "cell_type": "code",
   "execution_count": 6,
   "metadata": {},
   "outputs": [
    {
     "data": {
      "image/png": "[encoded data removed]",
      "text/plain": [
       "<Figure size 432x288 with 1 Axes>"
      ]
     },
     "metadata": {
      "needs_background": "light"
     },
     "output_type": "display_data"
    },
    {
     "name": "stdout",
     "output_type": "stream",
     "text": [
      "Random Forest Classifier Score Kismet:  0.9533333333333334\n"
     ]
    },
    {
     "data": {
      "image/png": "[encoded data removed]",
      "text/plain": [
       "<Figure size 432x288 with 1 Axes>"
      ]
     },
     "metadata": {
      "needs_background": "light"
     },
     "output_type": "display_data"
    },
    {
     "name": "stdout",
     "output_type": "stream",
     "text": [
      "Random Forest Classifier Score Baby:  0.6527777777777778\n"
     ]
    }
   ],
   "source": [
    "from sklearn.ensemble import RandomForestClassifier\n",
    "\n",
    "X,y = create(\"./Kismet_data\",[\"ap\",\"pw\"],types = \"Kismet\",v=0)  \n",
    "X_train, X_test, y_train, y_test = train_test_split(X, y, test_size=0.4)\n",
    "\n",
    "forest = RandomForestClassifier()\n",
    "forest.fit(X_train, y_train)\n",
    "\n",
    "\n",
    "names = [\"mean_f0\",\"median_f0\",\"25_f0\",\"75_f0\",\"max_f0\",\"std_f0\",\"len_f0\",\"deriv_f0\",\"mean_en\",\"median_en\",\"25_en\",\"75_en\",\"max_en\",\"std_en\",\"len_en\",\"deriv_en\"]\n",
    "\n",
    "\n",
    "plt.bar(names,forest.feature_importances_)\n",
    "plt.xticks(rotation=90)\n",
    "plt.show()\n",
    "    \n",
    "print(\"Random Forest Classifier Score Kismet: \",forest.score(X_test,y_test))\n",
    "\n",
    "X,y = create(\"./BabyEars_WAV\",[\"ap\",\"pr\"],types = \"Baby\",v=0)  \n",
    "X_train, X_test, y_train, y_test = train_test_split(X, y, test_size=0.4)\n",
    "\n",
    "forest = RandomForestClassifier()\n",
    "forest.fit(X_train, y_train)\n",
    "\n",
    "plt.bar(names,forest.feature_importances_)\n",
    "plt.xticks(rotation=90)\n",
    "plt.show()\n",
    "    \n",
    "print(\"Random Forest Classifier Score Baby: \",forest.score(X_test,y_test))"
   ]
  },
  {
   "cell_type": "markdown",
   "metadata": {},
   "source": [
    "Nous obtenons tout d'abord un score excellent pour Kismet et un score décevant pour Baby (obtenus tous deux sans optimisation des hyperparamtres). On remarque d'ailleurs qu'ils sont proches de ce que l'on obtenait avec SVM. Une dernière remarque avant de commenter les graphiques : les résultats (scores ET feature importances) varient de manière conséquentes à chaque exécution.\n",
    "\n",
    "On voit que les feature importances sont très différentes entre Baby et Kismet, où les features de ce premier sont globalement équilibrées (sauf exceptions) alors que le classifier de Kismet utilise principalement la moyenne, le max et le std de f0 (pour obtenir un socre proche d'être parfait). C'est assez étonnant de voir une telle différence entre les deux datasets. Il est probable que la raison soit la même que celle évoquée pour le score : les personnes ont plus forcé leurs intonations pour le robot qu'au naturel.\n",
    "\n",
    "D'ailleurs pour Kismet, il est intéressant de réfléchir au sens de cette domination des 3 features, et de la faible importance de l'énergie. La hauteur de la voix en moyenne, maximum et sa variation est suffisante pour classer entre Approval et Prohibition, ce qui n'est pas si étonnant en y réfléchissant.\n",
    "\n",
    "Pour finir voici les résultats pour d'autres couples de labels :"
   ]
  },
  {
   "cell_type": "code",
   "execution_count": 7,
   "metadata": {},
   "outputs": [
    {
     "name": "stdout",
     "output_type": "stream",
     "text": [
      "SVM Classifier Score Kismet AT/PW:  0.971830985915493\n",
      "SVM Classifier Score Baby AT/PR:  0.6554621848739496\n",
      "SVM Classifier Score Kismet AT/AP :  0.8014184397163121\n",
      "SVM Classifier Score Baby AT/AP :  0.7172413793103448\n"
     ]
    }
   ],
   "source": [
    "X,y = create(\"./Kismet_data\",[\"at\",\"pw\"],types = \"Kismet\",v=0)  \n",
    "X_train, X_test, y_train, y_test = train_test_split(X, y, test_size=0.4)\n",
    "\n",
    "clf = make_pipeline(StandardScaler(), SVC(gamma='auto'))\n",
    "clf.fit(X_train, y_train)\n",
    "\n",
    "print(\"SVM Classifier Score Kismet AT/PW: \",clf.score(X_test,y_test))\n",
    "\n",
    "X,y = create(\"./BabyEars_WAV\",[\"at\",\"pr\"],types = \"Baby\",v=0)  \n",
    "X_train, X_test, y_train, y_test = train_test_split(X, y, test_size=0.4)\n",
    "clf.fit(X_train, y_train)\n",
    "print(\"SVM Classifier Score Baby AT/PR: \",clf.score(X_test,y_test))\n",
    "\n",
    "X,y = create(\"./Kismet_data\",[\"at\",\"ap\"],types = \"Kismet\",v=0)  \n",
    "X_train, X_test, y_train, y_test = train_test_split(X, y, test_size=0.4)\n",
    "\n",
    "clf = make_pipeline(StandardScaler(), SVC(gamma='auto'))\n",
    "clf.fit(X_train, y_train)\n",
    "\n",
    "print(\"SVM Classifier Score Kismet AT/AP : \",clf.score(X_test,y_test))\n",
    "\n",
    "X,y = create(\"./BabyEars_WAV\",[\"at\",\"ap\"],types = \"Baby\",v=0)  \n",
    "X_train, X_test, y_train, y_test = train_test_split(X, y, test_size=0.4)\n",
    "clf.fit(X_train, y_train)\n",
    "print(\"SVM Classifier Score Baby AT/AP : \",clf.score(X_test,y_test))"
   ]
  },
  {
   "cell_type": "markdown",
   "metadata": {},
   "source": [
    "\n",
    "\n",
    "#### 3. Concernant les segments non-voisés (f0=0) :   \n",
    "\n",
    "Les statistiques de f0 sont toutes nulles, et seul l'énergie nous intéresse, nous perdons donc beaucoup d'information. D'après l'analyse de feature_importances précédente, on imagine que c'est une grosse perte et qu'il préférable de garder uniquement les segments voisés dans le cas où on ne peut garder qu'une partie. \n",
    "\n",
    "\n",
    "Essayons d'appliquer le processus complet (avec classifier SVM classique) sur les parties voisées uniquement et les parties non-voisées uniquement :\n"
   ]
  },
  {
   "cell_type": "code",
   "execution_count": 8,
   "metadata": {},
   "outputs": [
    {
     "name": "stdout",
     "output_type": "stream",
     "text": [
      "(373, 16) (373,)\n",
      "SVM Classifier Score Voisées Uniquement :  0.9533333333333334\n"
     ]
    }
   ],
   "source": [
    "X,y = create(\"./Kismet_data\",[\"ap\",\"pw\"],types = \"Kismet\",v=1)  \n",
    "print(np.array(X).shape,np.array(y).shape)\n",
    "X_train, X_test, y_train, y_test = train_test_split(X, y, test_size=0.4, random_state=42)\n",
    "\n",
    "clf = make_pipeline(StandardScaler(), SVC(gamma='auto'))\n",
    "clf.fit(X_train, y_train)\n",
    "\n",
    "print(\"SVM Classifier Score Voisées Uniquement : \",clf.score(X_test,y_test))"
   ]
  },
  {
   "cell_type": "code",
   "execution_count": 9,
   "metadata": {},
   "outputs": [
    {
     "name": "stdout",
     "output_type": "stream",
     "text": [
      "(373, 16) (373,)\n",
      "SVM Classifier Score Non-Voisées Uniquement :  0.6133333333333333\n"
     ]
    }
   ],
   "source": [
    "X,y = create(\"./Kismet_data\",[\"ap\",\"pw\"],types = \"Kismet\",v=2)  \n",
    "print(np.array(X).shape,np.array(y).shape)\n",
    "X_train, X_test, y_train, y_test = train_test_split(X, y, test_size=0.4, random_state=42)\n",
    "\n",
    "clf = make_pipeline(StandardScaler(), SVC(gamma='auto'))\n",
    "clf.fit(X_train, y_train)\n",
    "\n",
    "print(\"SVM Classifier Score Non-Voisées Uniquement : \",clf.score(X_test,y_test))"
   ]
  },
  {
   "cell_type": "markdown",
   "metadata": {},
   "source": [
    "Comme prévu, nous obtenons un score bien plus faible pour les non-voisés uniquement, et un score proche du score original pour les voisés uniquement. On peut d'ailleurs remarquer que le score du non-voisés reste meilleur qu'un random guess, l'information restante n'est pas inutile pour autant."
   ]
  },
  {
   "cell_type": "markdown",
   "metadata": {},
   "source": [
    "### Exercice 2 :"
   ]
  },
  {
   "cell_type": "code",
   "execution_count": 10,
   "metadata": {},
   "outputs": [
    {
     "name": "stdout",
     "output_type": "stream",
     "text": [
      "(539, 16) (539,)\n",
      "SVM Classifier Score Kismet :  0.875\n",
      "(509, 16) (509,)\n",
      "SVM Classifier Score Baby :  0.553921568627451\n"
     ]
    }
   ],
   "source": [
    "X,y = create(\"./Kismet_data\",[\"ap\",\"at\",\"pw\"],types = \"Kismet\")  \n",
    "print(np.array(X).shape,np.array(y).shape)\n",
    "X_train, X_test, y_train, y_test = train_test_split(X, y, test_size=0.4, random_state=42)\n",
    "\n",
    "clf = make_pipeline(StandardScaler(), SVC(gamma='auto'))\n",
    "clf.fit(X_train, y_train)\n",
    "\n",
    "print(\"SVM Classifier Score Kismet : \",clf.score(X_test,y_test))\n",
    "\n",
    "X,y = create(\"./BabyEars_WAV\",[\"ap\",\"at\",\"pr\"],types = \"Baby\")  \n",
    "print(np.array(X).shape,np.array(y).shape)\n",
    "X_train, X_test, y_train, y_test = train_test_split(X, y, test_size=0.4, random_state=42)\n",
    "\n",
    "clf = make_pipeline(StandardScaler(), SVC(gamma='auto'))\n",
    "clf.fit(X_train, y_train)\n",
    "\n",
    "print(\"SVM Classifier Score Baby : \",clf.score(X_test,y_test))"
   ]
  },
  {
   "cell_type": "markdown",
   "metadata": {},
   "source": [
    "Nous observons des résultats un peu moins bons que avec 2 classes. C'est compréhensible, de par le fait qu'il est plus difficile de classifier 3 classes contre 2. On peut cependant aussi se rappeler que ajouter cette 3ème classe rajoute des données (la 3ème classe ne provient pas des 2 premières), ce qui est une bonne chose pour notre classifier. \n",
    "\n",
    "Notamment le score est assez mauvais pour Baby (le random guess ne correspond pas à un score de 0.5 mais de un tiers)."
   ]
  },
  {
   "cell_type": "markdown",
   "metadata": {},
   "source": [
    "### Exercice 3 :"
   ]
  },
  {
   "cell_type": "markdown",
   "metadata": {},
   "source": [
    "#### Intra Condition :\n",
    "\n",
    "C'est ce que nous avons déjà réalisé précédemment (train et test sur le même dataset), je remets les scores pour effectuer des comparaisons ensuite."
   ]
  },
  {
   "cell_type": "code",
   "execution_count": 12,
   "metadata": {},
   "outputs": [
    {
     "name": "stdout",
     "output_type": "stream",
     "text": [
      "(539, 16) (539,)\n",
      "SVM Classifier Score Kismet :  0.875\n",
      "(509, 16) (509,)\n",
      "SVM Classifier Score Baby :  0.553921568627451\n"
     ]
    }
   ],
   "source": [
    "X,y = create(\"./Kismet_data\",[\"ap\",\"at\",\"pw\"],types = \"Kismet\")  \n",
    "print(np.array(X).shape,np.array(y).shape)\n",
    "X_train, X_test, y_train, y_test = train_test_split(X, y, test_size=0.4, random_state=42)\n",
    "\n",
    "clf = make_pipeline(StandardScaler(), SVC(gamma='auto'))\n",
    "clf.fit(X_train, y_train)\n",
    "\n",
    "print(\"SVM Classifier Score Kismet : \",clf.score(X_test,y_test))\n",
    "\n",
    "X,y = create(\"./BabyEars_WAV\",[\"ap\",\"at\",\"pr\"],types = \"Baby\")  \n",
    "print(np.array(X).shape,np.array(y).shape)\n",
    "X_train, X_test, y_train, y_test = train_test_split(X, y, test_size=0.4, random_state=42)\n",
    "\n",
    "clf = make_pipeline(StandardScaler(), SVC(gamma='auto'))\n",
    "clf.fit(X_train, y_train)\n",
    "\n",
    "print(\"SVM Classifier Score Baby : \",clf.score(X_test,y_test))"
   ]
  },
  {
   "cell_type": "markdown",
   "metadata": {},
   "source": [
    "#### Cross-Corpus Condition :\n",
    "\n",
    "Remarque : Nous considérons ici que Prohibition de Baby est équivalent à la classe Prohibition Weak de Kismet, il faut donc remplacer le label pw en pr si nous voulons utiliser les databases ensemble en train/test.\n",
    "\n",
    "Ici, on entraine sur un dataset et on test sur les 2 datasets séparément :"
   ]
  },
  {
   "cell_type": "code",
   "execution_count": 13,
   "metadata": {},
   "outputs": [],
   "source": [
    "def replace_labels(y,old=\"pw\",new=\"pr\") :\n",
    "    y = np.array(y)\n",
    "    return(np.where(y==old, new, y))"
   ]
  },
  {
   "cell_type": "code",
   "execution_count": 24,
   "metadata": {},
   "outputs": [
    {
     "name": "stdout",
     "output_type": "stream",
     "text": [
      "SVM Classifier Score Trained on Baby and tested on Kismet:  0.36363636363636365\n",
      "SVM Classifier Score Trained on Kismet and tested on Baby:  0.3948919449901768\n"
     ]
    }
   ],
   "source": [
    "X1,y1 = create(\"./BabyEars_WAV\",[\"ap\",\"at\",\"pr\"],types = \"Baby\")  \n",
    "\n",
    "clf = make_pipeline(StandardScaler(), SVC(gamma='auto'))\n",
    "clf.fit(X1,y1)\n",
    "\n",
    "X2,y2 = create(\"./Kismet_data\",[\"ap\",\"at\",\"pw\"],types = \"Kismet\")  \n",
    "\n",
    "y2 = replace_labels(y2)\n",
    "\n",
    "print(\"SVM Classifier Score Trained on Baby and tested on Kismet: \",clf.score(X2,y2))\n",
    "\n",
    "clf = make_pipeline(StandardScaler(), SVC(gamma='auto'))\n",
    "clf.fit(X2,y2)\n",
    "\n",
    "print(\"SVM Classifier Score Trained on Kismet and tested on Baby: \",clf.score(X1,y1))"
   ]
  },
  {
   "cell_type": "markdown",
   "metadata": {},
   "source": [
    "Nous observons des résultats très mauvais, ce qui peut être assez étonnant. Nous sommes tout juste meilleur qu'un random choice. Il est logique d'obtenir une perte de score de par la différence des audios et de la manière de classifier en fonction des trainings, mais c'est quand même suprenant d'obtenir une telle perte."
   ]
  },
  {
   "cell_type": "markdown",
   "metadata": {},
   "source": [
    "#### Pooling Condition"
   ]
  },
  {
   "cell_type": "code",
   "execution_count": 18,
   "metadata": {},
   "outputs": [
    {
     "name": "stdout",
     "output_type": "stream",
     "text": [
      "SVM Classifier Score Kismet :  0.8009259259259259\n",
      "SVM Classifier Score Baby :  0.4852941176470588\n"
     ]
    }
   ],
   "source": [
    "X1,y1 = create(\"./Kismet_data\",[\"ap\",\"at\",\"pw\"],types = \"Kismet\")  \n",
    "X2,y2 = create(\"./BabyEars_WAV\",[\"ap\",\"at\",\"pr\"],types = \"Baby\")  \n",
    "y2 = list(replace_labels(y2))\n",
    "\n",
    "X1_train, X1_test, y1_train, y1_test = train_test_split(X1, y1, test_size=0.4)\n",
    "X2_train, X2_test, y2_train, y2_test = train_test_split(X2, y2, test_size=0.4)\n",
    "\n",
    "X_train = X1_train + X2_train\n",
    "y_train = y1_train+y2_train\n",
    "\n",
    "\n",
    "clf = make_pipeline(StandardScaler(), SVC(gamma='auto'))\n",
    "clf.fit(X_train, y_train)\n",
    "\n",
    "print(\"SVM Classifier Score Kismet : \",clf.score(X1_test,y1_test))\n",
    "print(\"SVM Classifier Score Baby : \",clf.score(X2_test,y2_test))\n",
    "\n"
   ]
  },
  {
   "cell_type": "markdown",
   "metadata": {},
   "source": [
    "Ici, on concatène les deux bases de données, et on obtient des résultats bien meilleurs qu'avant (bien que loin d'être très bon pour autant, et même moins bons que précédemment). C'est plutôt logique car nous avons alors environ deux fois plus de données pour l'entraînement notamment, ce qui va grandement aider le classifier. Cependant, puisque les audios Kismet et Baby semblent assez différents (pour un classifier cf feature importance), il n'est pas étonnant de voir de moins bons résultats qu'en intra-condition.\n",
    "\n",
    "## Ajout Final Classifier pour détecter si un audio est pour Kismet ou au naturel pour un bébé"
   ]
  },
  {
   "cell_type": "code",
   "execution_count": 20,
   "metadata": {},
   "outputs": [
    {
     "name": "stdout",
     "output_type": "stream",
     "text": [
      "SVM Classifier Score Détection Kismet/Baby :  0.9642857142857143\n"
     ]
    }
   ],
   "source": [
    "X1,y1 = create(\"./Kismet_data\",[\"ap\",\"at\",\"pw\"],types = \"Kismet\")  \n",
    "X2,y2 = create(\"./BabyEars_WAV\",[\"ap\",\"at\",\"pr\"],types = \"Baby\")  \n",
    "y2 = list(replace_labels(y2))\n",
    "\n",
    "X = X1+X2\n",
    "y = np.zeros((len(X)))\n",
    "y[len(X1)+1:] = 1\n",
    "X_train, X_test, y_train, y_test = train_test_split(X, y, test_size=0.4) \n",
    "\n",
    "\n",
    "\n",
    "clf = make_pipeline(StandardScaler(), SVC(gamma='auto'))\n",
    "clf.fit(X_train, y_train)\n",
    "\n",
    "print(\"SVM Classifier Score Détection Kismet/Baby : \",clf.score(X_test,y_test))"
   ]
  }
 ],
 "metadata": {
  "kernelspec": {
   "display_name": "Python 3",
   "language": "python",
   "name": "python3"
  },
  "language_info": {
   "codemirror_mode": {
    "name": "ipython",
    "version": 3
   },
   "file_extension": ".py",
   "mimetype": "text/x-python",
   "name": "python",
   "nbconvert_exporter": "python",
   "pygments_lexer": "ipython3",
   "version": "3.7.6"
  }
 },
 "nbformat": 4,
 "nbformat_minor": 2
}
